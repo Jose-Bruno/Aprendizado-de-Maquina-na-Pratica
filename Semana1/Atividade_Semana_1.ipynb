{
  "nbformat": 4,
  "nbformat_minor": 0,
  "metadata": {
    "colab": {
      "name": "Atividade Semana 1.ipynb",
      "provenance": [],
      "collapsed_sections": [],
      "authorship_tag": "ABX9TyPODS8eSh3xcU3q0cHxknJv",
      "include_colab_link": true
    },
    "kernelspec": {
      "name": "python3",
      "display_name": "Python 3"
    }
  },
  "cells": [
    {
      "cell_type": "markdown",
      "metadata": {
        "id": "view-in-github",
        "colab_type": "text"
      },
      "source": [
        "<a href=\"https://colab.research.google.com/github/Jose-Bruno/Aprendizado-de-Maquina-na-Pratica/blob/master/Semana1/Atividade_Semana_1.ipynb\" target=\"_parent\"><img src=\"https://colab.research.google.com/assets/colab-badge.svg\" alt=\"Open In Colab\"/></a>"
      ]
    },
    {
      "cell_type": "markdown",
      "metadata": {
        "id": "ycpR1zmdW2gp",
        "colab_type": "text"
      },
      "source": [
        "\n",
        "**Dados de Casos de Ebola entre 2014-2016**"
      ]
    },
    {
      "cell_type": "code",
      "metadata": {
        "id": "RC1DSNzYWg4I",
        "colab_type": "code",
        "colab": {
          "base_uri": "https://localhost:8080/",
          "height": 34
        },
        "outputId": "9736edb0-31c2-4076-a3ad-ffe168f1cadf"
      },
      "source": [
        "from google.colab import drive\n",
        "drive.mount('/content/drive/')\n"
      ],
      "execution_count": 254,
      "outputs": [
        {
          "output_type": "stream",
          "text": [
            "Drive already mounted at /content/drive/; to attempt to forcibly remount, call drive.mount(\"/content/drive/\", force_remount=True).\n"
          ],
          "name": "stdout"
        }
      ]
    },
    {
      "cell_type": "code",
      "metadata": {
        "id": "5go64bB6WpD-",
        "colab_type": "code",
        "colab": {}
      },
      "source": [
        "import numpy as np\n",
        "import pandas as pd\n",
        "import matplotlib.pyplot as plt\n",
        "import seaborn as sns"
      ],
      "execution_count": 255,
      "outputs": []
    },
    {
      "cell_type": "code",
      "metadata": {
        "id": "7k6Bd90X2v5K",
        "colab_type": "code",
        "colab": {}
      },
      "source": [
        "dados = pd.read_csv('/content/drive/My Drive/Colab Notebooks/Aprendizado de Maquina na Pratica/Semana 1/Datasets/ebola_2014_2016_clean.csv')"
      ],
      "execution_count": 256,
      "outputs": []
    },
    {
      "cell_type": "code",
      "metadata": {
        "id": "Cdf3-EkI5Z2O",
        "colab_type": "code",
        "colab": {
          "base_uri": "https://localhost:8080/",
          "height": 197
        },
        "outputId": "5010aaea-487c-4488-d12a-ef87a1318adb"
      },
      "source": [
        "dados.head()\n",
        "#NCC --> Numero de casos confirmados\n",
        "#NMC --> Numero de mortes confirmadas"
      ],
      "execution_count": 257,
      "outputs": [
        {
          "output_type": "execute_result",
          "data": {
            "text/html": [
              "<div>\n",
              "<style scoped>\n",
              "    .dataframe tbody tr th:only-of-type {\n",
              "        vertical-align: middle;\n",
              "    }\n",
              "\n",
              "    .dataframe tbody tr th {\n",
              "        vertical-align: top;\n",
              "    }\n",
              "\n",
              "    .dataframe thead th {\n",
              "        text-align: right;\n",
              "    }\n",
              "</style>\n",
              "<table border=\"1\" class=\"dataframe\">\n",
              "  <thead>\n",
              "    <tr style=\"text-align: right;\">\n",
              "      <th></th>\n",
              "      <th>Country</th>\n",
              "      <th>Date</th>\n",
              "      <th>NCC</th>\n",
              "      <th>NMC</th>\n",
              "    </tr>\n",
              "  </thead>\n",
              "  <tbody>\n",
              "    <tr>\n",
              "      <th>0</th>\n",
              "      <td>Guinea</td>\n",
              "      <td>2014-08-29</td>\n",
              "      <td>648.0</td>\n",
              "      <td>430.0</td>\n",
              "    </tr>\n",
              "    <tr>\n",
              "      <th>1</th>\n",
              "      <td>Nigeria</td>\n",
              "      <td>2014-08-29</td>\n",
              "      <td>19.0</td>\n",
              "      <td>7.0</td>\n",
              "    </tr>\n",
              "    <tr>\n",
              "      <th>2</th>\n",
              "      <td>Sierra Leone</td>\n",
              "      <td>2014-08-29</td>\n",
              "      <td>1026.0</td>\n",
              "      <td>422.0</td>\n",
              "    </tr>\n",
              "    <tr>\n",
              "      <th>3</th>\n",
              "      <td>Liberia</td>\n",
              "      <td>2014-08-29</td>\n",
              "      <td>1378.0</td>\n",
              "      <td>694.0</td>\n",
              "    </tr>\n",
              "    <tr>\n",
              "      <th>4</th>\n",
              "      <td>Sierra Leone</td>\n",
              "      <td>2014-09-05</td>\n",
              "      <td>1261.0</td>\n",
              "      <td>491.0</td>\n",
              "    </tr>\n",
              "  </tbody>\n",
              "</table>\n",
              "</div>"
            ],
            "text/plain": [
              "        Country        Date     NCC    NMC\n",
              "0        Guinea  2014-08-29   648.0  430.0\n",
              "1       Nigeria  2014-08-29    19.0    7.0\n",
              "2  Sierra Leone  2014-08-29  1026.0  422.0\n",
              "3       Liberia  2014-08-29  1378.0  694.0\n",
              "4  Sierra Leone  2014-09-05  1261.0  491.0"
            ]
          },
          "metadata": {
            "tags": []
          },
          "execution_count": 257
        }
      ]
    },
    {
      "cell_type": "code",
      "metadata": {
        "id": "ZqujzGnz4-Dw",
        "colab_type": "code",
        "colab": {}
      },
      "source": [
        "dados = dados.dropna()"
      ],
      "execution_count": 258,
      "outputs": []
    },
    {
      "cell_type": "code",
      "metadata": {
        "id": "r8Bdgv_LETFg",
        "colab_type": "code",
        "colab": {
          "base_uri": "https://localhost:8080/",
          "height": 34
        },
        "outputId": "88693b8d-362b-4260-e0d0-1d63a8c085bb"
      },
      "source": [
        "country = dados['Country']\n",
        "paises = []\n",
        "for x in country:\n",
        "  if x not in paises:\n",
        "    paises.append(x)\n",
        "print(paises)"
      ],
      "execution_count": 259,
      "outputs": [
        {
          "output_type": "stream",
          "text": [
            "['Guinea', 'Nigeria', 'Sierra Leone', 'Liberia', 'Senegal', 'United States of America', 'Spain', 'Mali', 'United Kingdom', 'Italy']\n"
          ],
          "name": "stdout"
        }
      ]
    },
    {
      "cell_type": "code",
      "metadata": {
        "id": "6sdr0EG5FNXy",
        "colab_type": "code",
        "colab": {}
      },
      "source": [
        "guianea_casos = dados.loc[dados['Country']=='Guinea', 'NCC']\n",
        "guianea_mortes = dados.loc[dados['Country']=='Guinea', 'NMC']\n",
        "\n",
        "nigeria_casos = dados.loc[dados['Country']=='Nigeria', 'NCC']\n",
        "nigeria_mortes = dados.loc[dados['Country']=='Nigeria', 'NMC']\n",
        "\n",
        "sierra_leone_casos  = dados.loc[dados['Country']=='Sierra Leone', 'NCC']\n",
        "sierra_leone_mortes = dados.loc[dados['Country']=='Sierra Leone', 'NMC']\n",
        "\n",
        "liberia_casos  = dados.loc[dados['Country']=='Liberia', 'NCC']\n",
        "liberia_mortes = dados.loc[dados['Country']=='Liberia', 'NMC']\n",
        "\n",
        "senegal_casos  = dados.loc[dados['Country']=='Senegal', 'NCC']\n",
        "senegal_mortes = dados.loc[dados['Country']=='Senegal', 'NMC']\n",
        "\n",
        "estados_unidos_casos  = dados.loc[dados['Country']=='United States of America', 'NCC']\n",
        "estados_unidos_mortes = dados.loc[dados['Country']=='United States of America', 'NMC']\n",
        "\n",
        "espanha_casos  = dados.loc[dados['Country']=='Spain', 'NCC']\n",
        "espanha_mortes = dados.loc[dados['Country']=='Spain', 'NMC']\n",
        "\n",
        "mali_casos  = dados.loc[dados['Country']=='Mali', 'NCC']\n",
        "mali_mortes = dados.loc[dados['Country']=='Mali', 'NMC']\n",
        "\n",
        "reino_unido_casos  = dados.loc[dados['Country']=='United Kingdom', 'NCC']\n",
        "reino_unido_mortes = dados.loc[dados['Country']=='United Kingdom', 'NMC']\n",
        "\n",
        "italia_casos  = dados.loc[dados['Country']=='Italy', 'NCC']\n",
        "italia_mortes = dados.loc[dados['Country']=='Italy', 'NMC']"
      ],
      "execution_count": 260,
      "outputs": []
    },
    {
      "cell_type": "code",
      "metadata": {
        "id": "MMilDehkObIj",
        "colab_type": "code",
        "colab": {
          "base_uri": "https://localhost:8080/",
          "height": 281
        },
        "outputId": "a5e49d55-301c-40cb-fb40-7798321d0476"
      },
      "source": [
        "# paises1 = ['Guinea', 'Nigeria', 'Sierra Leone', 'Liberia', 'Senegal', 'Estados Unidos', 'Espanha', 'Mali', 'Reino Unido', 'Italia']\n",
        "# Cada numero equivale a um pais para melhor visualização.\n",
        "paises1 = [1,2,3,4,5,6,7,8,9,10]\n",
        "media_casos_pais = [guianea_casos.mean(),nigeria_casos.mean(), sierra_leone_casos.mean(),liberia_casos.mean(),senegal_casos.mean(),estados_unidos_casos.mean(),espanha_casos.mean(),\n",
        "                 mali_casos.mean(),reino_unido_casos.mean(),italia_casos.mean()]\n",
        "plt.bar(paises1, media_casos_pais)\n",
        "plt.title('Media de casos confirmados por País')\n",
        "plt.show()"
      ],
      "execution_count": 261,
      "outputs": [
        {
          "output_type": "display_data",
          "data": {
            "image/png": "[encoded data removed]",
            "text/plain": [
              "<Figure size 432x288 with 1 Axes>"
            ]
          },
          "metadata": {
            "tags": [],
            "needs_background": "light"
          }
        }
      ]
    },
    {
      "cell_type": "code",
      "metadata": {
        "id": "u_BTSLpaasMQ",
        "colab_type": "code",
        "colab": {
          "base_uri": "https://localhost:8080/",
          "height": 230
        },
        "outputId": "2a23b80f-c15c-42d2-af5c-503656baf8d5"
      },
      "source": [
        "print(\"Media de Casos Confirmados Por País \\n\")\n",
        "print(\"Guianea: {:.2f}\".format(guianea_casos.mean()))\n",
        "print(\"Nigeria: {:.2f}\".format(nigeria_casos.mean()))\n",
        "print(\"Sierra Leone: {:.2f}\".format(sierra_leone_casos.mean()))\n",
        "print(\"Liberia: {:.2f}\".format(liberia_casos.mean()))\n",
        "print(\"Senegal: {:.2f}\".format(senegal_casos.mean()))\n",
        "print(\"Estados Unidos: {:.2f}\".format(estados_unidos_casos.mean()))\n",
        "print(\"Espanha: {:.2f}\".format(espanha_casos.mean()))\n",
        "print(\"Mali: {:.2f}\".format(mali_casos.mean()))\n",
        "print(\"Reino Unido: {:.2f}\".format(reino_unido_casos.mean()))\n",
        "print(\"Italia: {:.2f}\".format(italia_casos.mean()))"
      ],
      "execution_count": 262,
      "outputs": [
        {
          "output_type": "stream",
          "text": [
            "Media de Casos Confirmados Por País \n",
            "\n",
            "Guianea: 3297.75\n",
            "Nigeria: 20.02\n",
            "Sierra Leone: 11596.25\n",
            "Liberia: 6737.32\n",
            "Senegal: 1.02\n",
            "Estados Unidos: 3.95\n",
            "Espanha: 1.00\n",
            "Mali: 7.80\n",
            "Reino Unido: 0.99\n",
            "Italia: 1.00\n"
          ],
          "name": "stdout"
        }
      ]
    },
    {
      "cell_type": "code",
      "metadata": {
        "id": "sXzfwAcRRcIT",
        "colab_type": "code",
        "colab": {
          "base_uri": "https://localhost:8080/",
          "height": 281
        },
        "outputId": "2b6b6c00-cd29-4051-87ae-a3e63723f133"
      },
      "source": [
        "# paises1 = ['Guinea', 'Nigeria', 'Sierra Leone', 'Liberia', 'Senegal', 'Estados Unidos', 'Espanha', 'Mali', 'Reino Unido', 'Italia']\n",
        "# Cada numero equivale a um pais para melhor visualização.\n",
        "media_mortes_pais = [guiania_mortes.mean(),nigeria_mortes.mean(),sierra_leone_mortes.mean(),liberia_mortes.mean(),senegal_mortes.mean(),estados_unidos_mortes.mean(),\n",
        "                    espanha_mortes.mean(),mali_mortes.mean(),reino_unido_mortes.mean(),italia_mortes.mean()]\n",
        "plt.bar(paises1, media_mortes_pais)\n",
        "plt.title('Media de Mortes confirmadas por País')\n",
        "plt.show()"
      ],
      "execution_count": 263,
      "outputs": [
        {
          "output_type": "display_data",
          "data": {
            "image/png": "[encoded data removed]",
            "text/plain": [
              "<Figure size 432x288 with 1 Axes>"
            ]
          },
          "metadata": {
            "tags": [],
            "needs_background": "light"
          }
        }
      ]
    },
    {
      "cell_type": "code",
      "metadata": {
        "id": "7xqpf_HcePLX",
        "colab_type": "code",
        "colab": {
          "base_uri": "https://localhost:8080/",
          "height": 230
        },
        "outputId": "11300f59-7d32-4da0-c9ea-4ae394e96269"
      },
      "source": [
        "print(\"Media de Mortes Confirmadas Por País \\n\")\n",
        "print(\"Guianea: {:.2f}\".format(guianea_mortes.mean()))\n",
        "print(\"Nigeria: {:.2f}\".format(nigeria_mortes.mean()))\n",
        "print(\"Sierra Leone: {:.2f}\".format(sierra_leone_mortes.mean()))\n",
        "print(\"Liberia: {:.2f}\".format(liberia_mortes.mean()))\n",
        "print(\"Senegal: {:.2f}\".format(senegal_mortes.mean()))\n",
        "print(\"Estados Unidos: {:.2f}\".format(estados_unidos_mortes.mean()))\n",
        "print(\"Espanha: {:.2f}\".format(espanha_mortes.mean()))\n",
        "print(\"Mali: {:.2f}\".format(mali_mortes.mean()))\n",
        "print(\"Reino Unido: {:.2f}\".format(reino_unido_mortes.mean()))\n",
        "print(\"Italia: {:.2f}\".format(italia_mortes.mean()))"
      ],
      "execution_count": 264,
      "outputs": [
        {
          "output_type": "stream",
          "text": [
            "Media de Mortes Confirmadas Por País \n",
            "\n",
            "Guianea: 2174.01\n",
            "Nigeria: 8.00\n",
            "Sierra Leone: 3431.79\n",
            "Liberia: 3013.24\n",
            "Senegal: 0.00\n",
            "Estados Unidos: 0.99\n",
            "Espanha: 0.00\n",
            "Mali: 5.87\n",
            "Reino Unido: 0.00\n",
            "Italia: 0.00\n"
          ],
          "name": "stdout"
        }
      ]
    },
    {
      "cell_type": "code",
      "metadata": {
        "id": "is6we_WhLZjk",
        "colab_type": "code",
        "colab": {
          "base_uri": "https://localhost:8080/",
          "height": 281
        },
        "outputId": "367b6159-2ee4-48ba-bfc4-e58ebd13cf6e"
      },
      "source": [
        "plt.hist(dados['NCC'],10) \n",
        "plt.hist(dados['NMC'],10)\n",
        "plt.ylabel('Quantidade')\n",
        "plt.title('Relação de casos confirmados e Mortes')\n",
        "\n",
        "#Azul --> Casos Confirmados.\n",
        "#Laranja --> Mortes.\n",
        "\n",
        "plt.show()"
      ],
      "execution_count": 265,
      "outputs": [
        {
          "output_type": "display_data",
          "data": {
            "image/png": "[encoded data removed]",
            "text/plain": [
              "<Figure size 432x288 with 1 Axes>"
            ]
          },
          "metadata": {
            "tags": [],
            "needs_background": "light"
          }
        }
      ]
    },
    {
      "cell_type": "code",
      "metadata": {
        "id": "VqCyyMQY_LJP",
        "colab_type": "code",
        "colab": {
          "base_uri": "https://localhost:8080/",
          "height": 238
        },
        "outputId": "98cfe785-0095-485d-8613-7b6138607097"
      },
      "source": [
        "sns.distplot(dados.NCC, hist=False, rug=False,label='Numero de Casos Confirmados')\n",
        "sns.distplot(dados.NMC, hist=False, rug=False,label='Numero de Mortes Confirmadas')\n",
        "plt.ylabel('Probabilidades')\n",
        "plt.xlabel(' ')\n",
        "plt.title('Ocorrências')\n",
        "plt.show()"
      ],
      "execution_count": 1,
      "outputs": [
        {
          "output_type": "error",
          "ename": "NameError",
          "evalue": "ignored",
          "traceback": [
            "\u001b[0;31m---------------------------------------------------------------------------\u001b[0m",
            "\u001b[0;31mNameError\u001b[0m                                 Traceback (most recent call last)",
            "\u001b[0;32m<ipython-input-1-528e89c44225>\u001b[0m in \u001b[0;36m<module>\u001b[0;34m()\u001b[0m\n\u001b[0;32m----> 1\u001b[0;31m \u001b[0msns\u001b[0m\u001b[0;34m.\u001b[0m\u001b[0mdistplot\u001b[0m\u001b[0;34m(\u001b[0m\u001b[0mdados\u001b[0m\u001b[0;34m.\u001b[0m\u001b[0mNCC\u001b[0m\u001b[0;34m,\u001b[0m \u001b[0mhist\u001b[0m\u001b[0;34m=\u001b[0m\u001b[0;32mFalse\u001b[0m\u001b[0;34m,\u001b[0m \u001b[0mrug\u001b[0m\u001b[0;34m=\u001b[0m\u001b[0;32mFalse\u001b[0m\u001b[0;34m,\u001b[0m\u001b[0mlabel\u001b[0m\u001b[0;34m=\u001b[0m\u001b[0;34m'Numero de Casos Confirmados'\u001b[0m\u001b[0;34m)\u001b[0m\u001b[0;34m\u001b[0m\u001b[0;34m\u001b[0m\u001b[0m\n\u001b[0m\u001b[1;32m      2\u001b[0m \u001b[0msns\u001b[0m\u001b[0;34m.\u001b[0m\u001b[0mdistplot\u001b[0m\u001b[0;34m(\u001b[0m\u001b[0mdados\u001b[0m\u001b[0;34m.\u001b[0m\u001b[0mNMC\u001b[0m\u001b[0;34m,\u001b[0m \u001b[0mhist\u001b[0m\u001b[0;34m=\u001b[0m\u001b[0;32mFalse\u001b[0m\u001b[0;34m,\u001b[0m \u001b[0mrug\u001b[0m\u001b[0;34m=\u001b[0m\u001b[0;32mFalse\u001b[0m\u001b[0;34m,\u001b[0m\u001b[0mlabel\u001b[0m\u001b[0;34m=\u001b[0m\u001b[0;34m'Numero de Mortes Confirmadas'\u001b[0m\u001b[0;34m)\u001b[0m\u001b[0;34m\u001b[0m\u001b[0;34m\u001b[0m\u001b[0m\n\u001b[1;32m      3\u001b[0m \u001b[0mplt\u001b[0m\u001b[0;34m.\u001b[0m\u001b[0mylabel\u001b[0m\u001b[0;34m(\u001b[0m\u001b[0;34m'Probabilidades'\u001b[0m\u001b[0;34m)\u001b[0m\u001b[0;34m\u001b[0m\u001b[0;34m\u001b[0m\u001b[0m\n\u001b[1;32m      4\u001b[0m \u001b[0mplt\u001b[0m\u001b[0;34m.\u001b[0m\u001b[0mxlabel\u001b[0m\u001b[0;34m(\u001b[0m\u001b[0;34m' '\u001b[0m\u001b[0;34m)\u001b[0m\u001b[0;34m\u001b[0m\u001b[0;34m\u001b[0m\u001b[0m\n\u001b[1;32m      5\u001b[0m \u001b[0mplt\u001b[0m\u001b[0;34m.\u001b[0m\u001b[0mtitle\u001b[0m\u001b[0;34m(\u001b[0m\u001b[0;34m'Ocorrências'\u001b[0m\u001b[0;34m)\u001b[0m\u001b[0;34m\u001b[0m\u001b[0;34m\u001b[0m\u001b[0m\n",
            "\u001b[0;31mNameError\u001b[0m: name 'sns' is not defined"
          ]
        }
      ]
    },
    {
      "cell_type": "code",
      "metadata": {
        "id": "jqyM2rS0ThYy",
        "colab_type": "code",
        "colab": {
          "base_uri": "https://localhost:8080/",
          "height": 294
        },
        "outputId": "c4ed231f-4e17-44dc-c47c-ef4375c3e4b6"
      },
      "source": [
        "plt.scatter(dados.NCC,dados.NMC)\n",
        "plt.xlabel('Casos Confirmados')\n",
        "plt.ylabel('Mortes Confirmadas')\n",
        "plt.title('Correlação entre casos confirmados e mortes confirmadas')\n",
        "plt.show()"
      ],
      "execution_count": 267,
      "outputs": [
        {
          "output_type": "display_data",
          "data": {
            "image/png": "[encoded data removed]",
            "text/plain": [
              "<Figure size 432x288 with 1 Axes>"
            ]
          },
          "metadata": {
            "tags": [],
            "needs_background": "light"
          }
        }
      ]
    },
    {
      "cell_type": "markdown",
      "metadata": {
        "id": "m7DIWViWUjQZ",
        "colab_type": "text"
      },
      "source": [
        "Após a analise dos dados foi constato que:\n",
        "\n",
        "1 - O numero de casos confirmados e mortes por ebola eram maior na Guianea, Sierra Leonee e Liberia.\n",
        "\n",
        "2 - O numero de mortes por ebola incialmente eram maior que o numero de casos confirmados.\n",
        "\n",
        "3 - O numero de mortes por ebola foi diminuindo ao longo do tempo.\n",
        "\n",
        "4 - Nos meses finais o numero de mortes por ebola diminuiram drasticamente em relação aos casos confirmados."
      ]
    }
  ]
}