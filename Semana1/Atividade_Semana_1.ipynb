{
  "nbformat": 4,
  "nbformat_minor": 0,
  "metadata": {
    "colab": {
      "name": "Atividade Semana 1.ipynb",
      "provenance": [],
      "collapsed_sections": [],
      "include_colab_link": true
    },
    "kernelspec": {
      "name": "python3",
      "display_name": "Python 3"
    }
  },
  "cells": [
    {
      "cell_type": "markdown",
      "metadata": {
        "id": "view-in-github",
        "colab_type": "text"
      },
      "source": [
        "<a href=\"https://colab.research.google.com/github/Jose-Bruno/Aprendizado-de-Maquina-na-Pratica/blob/master/Semana1/Atividade_Semana_1.ipynb\" target=\"_parent\"><img src=\"https://colab.research.google.com/assets/colab-badge.svg\" alt=\"Open In Colab\"/></a>"
      ]
    },
    {
      "cell_type": "markdown",
      "metadata": {
        "id": "ycpR1zmdW2gp",
        "colab_type": "text"
      },
      "source": [
        "\n",
        "**Dados de Casos de Ebola entre 2014-2016**"
      ]
    },
    {
      "cell_type": "code",
      "metadata": {
        "id": "RC1DSNzYWg4I",
        "colab_type": "code",
        "colab": {
          "base_uri": "https://localhost:8080/",
          "height": 34
        },
        "outputId": "4f5f4812-6e00-4fb6-9a10-25bbd70319a1"
      },
      "source": [
        "from google.colab import drive\n",
        "drive.mount('/content/drive/')\n"
      ],
      "execution_count": 14,
      "outputs": [
        {
          "output_type": "stream",
          "text": [
            "Drive already mounted at /content/drive/; to attempt to forcibly remount, call drive.mount(\"/content/drive/\", force_remount=True).\n"
          ],
          "name": "stdout"
        }
      ]
    },
    {
      "cell_type": "code",
      "metadata": {
        "id": "5go64bB6WpD-",
        "colab_type": "code",
        "colab": {}
      },
      "source": [
        "import numpy as np\n",
        "import pandas as pd\n",
        "import matplotlib.pyplot as plt\n",
        "import seaborn as sns"
      ],
      "execution_count": 15,
      "outputs": []
    },
    {
      "cell_type": "code",
      "metadata": {
        "id": "7k6Bd90X2v5K",
        "colab_type": "code",
        "colab": {}
      },
      "source": [
        "dados = pd.read_csv('/content/drive/My Drive/Colab Notebooks/Aprendizado de Maquina na Pratica/Semana 1/Datasets/ebola_2014_2016_clean.csv')"
      ],
      "execution_count": 16,
      "outputs": []
    },
    {
      "cell_type": "code",
      "metadata": {
        "id": "Cdf3-EkI5Z2O",
        "colab_type": "code",
        "colab": {
          "base_uri": "https://localhost:8080/",
          "height": 204
        },
        "outputId": "6aff2403-487c-484b-efd0-1c2d930d92e9"
      },
      "source": [
        "dados.head()\n",
        "#NCC --> Numero de casos confirmados\n",
        "#NMC --> Numero de mortes confirmadas"
      ],
      "execution_count": 17,
      "outputs": [
        {
          "output_type": "execute_result",
          "data": {
            "text/html": [
              "<div>\n",
              "<style scoped>\n",
              "    .dataframe tbody tr th:only-of-type {\n",
              "        vertical-align: middle;\n",
              "    }\n",
              "\n",
              "    .dataframe tbody tr th {\n",
              "        vertical-align: top;\n",
              "    }\n",
              "\n",
              "    .dataframe thead th {\n",
              "        text-align: right;\n",
              "    }\n",
              "</style>\n",
              "<table border=\"1\" class=\"dataframe\">\n",
              "  <thead>\n",
              "    <tr style=\"text-align: right;\">\n",
              "      <th></th>\n",
              "      <th>Country</th>\n",
              "      <th>Date</th>\n",
              "      <th>NCC</th>\n",
              "      <th>NMC</th>\n",
              "    </tr>\n",
              "  </thead>\n",
              "  <tbody>\n",
              "    <tr>\n",
              "      <th>0</th>\n",
              "      <td>Guinea</td>\n",
              "      <td>2014-08-29</td>\n",
              "      <td>648.0</td>\n",
              "      <td>430.0</td>\n",
              "    </tr>\n",
              "    <tr>\n",
              "      <th>1</th>\n",
              "      <td>Nigeria</td>\n",
              "      <td>2014-08-29</td>\n",
              "      <td>19.0</td>\n",
              "      <td>7.0</td>\n",
              "    </tr>\n",
              "    <tr>\n",
              "      <th>2</th>\n",
              "      <td>Sierra Leone</td>\n",
              "      <td>2014-08-29</td>\n",
              "      <td>1026.0</td>\n",
              "      <td>422.0</td>\n",
              "    </tr>\n",
              "    <tr>\n",
              "      <th>3</th>\n",
              "      <td>Liberia</td>\n",
              "      <td>2014-08-29</td>\n",
              "      <td>1378.0</td>\n",
              "      <td>694.0</td>\n",
              "    </tr>\n",
              "    <tr>\n",
              "      <th>4</th>\n",
              "      <td>Sierra Leone</td>\n",
              "      <td>2014-09-05</td>\n",
              "      <td>1261.0</td>\n",
              "      <td>491.0</td>\n",
              "    </tr>\n",
              "  </tbody>\n",
              "</table>\n",
              "</div>"
            ],
            "text/plain": [
              "        Country        Date     NCC    NMC\n",
              "0        Guinea  2014-08-29   648.0  430.0\n",
              "1       Nigeria  2014-08-29    19.0    7.0\n",
              "2  Sierra Leone  2014-08-29  1026.0  422.0\n",
              "3       Liberia  2014-08-29  1378.0  694.0\n",
              "4  Sierra Leone  2014-09-05  1261.0  491.0"
            ]
          },
          "metadata": {
            "tags": []
          },
          "execution_count": 17
        }
      ]
    },
    {
      "cell_type": "code",
      "metadata": {
        "id": "ZqujzGnz4-Dw",
        "colab_type": "code",
        "colab": {}
      },
      "source": [
        "dados = dados.dropna()"
      ],
      "execution_count": 18,
      "outputs": []
    },
    {
      "cell_type": "code",
      "metadata": {
        "id": "r8Bdgv_LETFg",
        "colab_type": "code",
        "colab": {
          "base_uri": "https://localhost:8080/",
          "height": 34
        },
        "outputId": "da043178-ab35-49bf-fcbe-ed276526c633"
      },
      "source": [
        "country = dados['Country']\n",
        "paises = []\n",
        "for x in country:\n",
        "  if x not in paises:\n",
        "    paises.append(x)\n",
        "print(paises)"
      ],
      "execution_count": 19,
      "outputs": [
        {
          "output_type": "stream",
          "text": [
            "['Guinea', 'Nigeria', 'Sierra Leone', 'Liberia', 'Senegal', 'United States of America', 'Spain', 'Mali', 'United Kingdom', 'Italy']\n"
          ],
          "name": "stdout"
        }
      ]
    },
    {
      "cell_type": "code",
      "metadata": {
        "id": "6sdr0EG5FNXy",
        "colab_type": "code",
        "colab": {}
      },
      "source": [
        "guianea_casos = dados.loc[dados['Country']=='Guinea', 'NCC']\n",
        "guianea_mortes = dados.loc[dados['Country']=='Guinea', 'NMC']\n",
        "\n",
        "nigeria_casos = dados.loc[dados['Country']=='Nigeria', 'NCC']\n",
        "nigeria_mortes = dados.loc[dados['Country']=='Nigeria', 'NMC']\n",
        "\n",
        "sierra_leone_casos  = dados.loc[dados['Country']=='Sierra Leone', 'NCC']\n",
        "sierra_leone_mortes = dados.loc[dados['Country']=='Sierra Leone', 'NMC']\n",
        "\n",
        "liberia_casos  = dados.loc[dados['Country']=='Liberia', 'NCC']\n",
        "liberia_mortes = dados.loc[dados['Country']=='Liberia', 'NMC']\n",
        "\n",
        "senegal_casos  = dados.loc[dados['Country']=='Senegal', 'NCC']\n",
        "senegal_mortes = dados.loc[dados['Country']=='Senegal', 'NMC']\n",
        "\n",
        "estados_unidos_casos  = dados.loc[dados['Country']=='United States of America', 'NCC']\n",
        "estados_unidos_mortes = dados.loc[dados['Country']=='United States of America', 'NMC']\n",
        "\n",
        "espanha_casos  = dados.loc[dados['Country']=='Spain', 'NCC']\n",
        "espanha_mortes = dados.loc[dados['Country']=='Spain', 'NMC']\n",
        "\n",
        "mali_casos  = dados.loc[dados['Country']=='Mali', 'NCC']\n",
        "mali_mortes = dados.loc[dados['Country']=='Mali', 'NMC']\n",
        "\n",
        "reino_unido_casos  = dados.loc[dados['Country']=='United Kingdom', 'NCC']\n",
        "reino_unido_mortes = dados.loc[dados['Country']=='United Kingdom', 'NMC']\n",
        "\n",
        "italia_casos  = dados.loc[dados['Country']=='Italy', 'NCC']\n",
        "italia_mortes = dados.loc[dados['Country']=='Italy', 'NMC']"
      ],
      "execution_count": 20,
      "outputs": []
    },
    {
      "cell_type": "code",
      "metadata": {
        "id": "MMilDehkObIj",
        "colab_type": "code",
        "colab": {
          "base_uri": "https://localhost:8080/",
          "height": 281
        },
        "outputId": "64e7e5ed-02b5-43fd-e816-9c7e7cd09a6b"
      },
      "source": [
        "# paises1 = ['Guinea', 'Nigeria', 'Sierra Leone', 'Liberia', 'Senegal', 'Estados Unidos', 'Espanha', 'Mali', 'Reino Unido', 'Italia']\n",
        "# Cada numero equivale a um pais para melhor visualização.\n",
        "paises1 = [1,2,3,4,5,6,7,8,9,10]\n",
        "media_casos_pais = [guianea_casos.mean(),nigeria_casos.mean(), sierra_leone_casos.mean(),liberia_casos.mean(),senegal_casos.mean(),estados_unidos_casos.mean(),espanha_casos.mean(),\n",
        "                 mali_casos.mean(),reino_unido_casos.mean(),italia_casos.mean()]\n",
        "plt.bar(paises1, media_casos_pais)\n",
        "plt.title('Media de casos confirmados por País')\n",
        "plt.show()"
      ],
      "execution_count": 21,
      "outputs": [
        {
          "output_type": "display_data",
          "data": {
            "image/png": "[encoded data removed]",
            "text/plain": [
              "<Figure size 432x288 with 1 Axes>"
            ]
          },
          "metadata": {
            "tags": [],
            "needs_background": "light"
          }
        }
      ]
    },
    {
      "cell_type": "code",
      "metadata": {
        "id": "u_BTSLpaasMQ",
        "colab_type": "code",
        "colab": {
          "base_uri": "https://localhost:8080/",
          "height": 221
        },
        "outputId": "4a15f157-e1c9-4be6-9db4-3ce987d5f32f"
      },
      "source": [
        "print(\"Media de Casos Confirmados Por País \\n\")\n",
        "print(\"Guianea: {:.2f}\".format(guianea_casos.mean()))\n",
        "print(\"Nigeria: {:.2f}\".format(nigeria_casos.mean()))\n",
        "print(\"Sierra Leone: {:.2f}\".format(sierra_leone_casos.mean()))\n",
        "print(\"Liberia: {:.2f}\".format(liberia_casos.mean()))\n",
        "print(\"Senegal: {:.2f}\".format(senegal_casos.mean()))\n",
        "print(\"Estados Unidos: {:.2f}\".format(estados_unidos_casos.mean()))\n",
        "print(\"Espanha: {:.2f}\".format(espanha_casos.mean()))\n",
        "print(\"Mali: {:.2f}\".format(mali_casos.mean()))\n",
        "print(\"Reino Unido: {:.2f}\".format(reino_unido_casos.mean()))\n",
        "print(\"Italia: {:.2f}\".format(italia_casos.mean()))"
      ],
      "execution_count": 22,
      "outputs": [
        {
          "output_type": "stream",
          "text": [
            "Media de Casos Confirmados Por País \n",
            "\n",
            "Guianea: 3297.75\n",
            "Nigeria: 20.02\n",
            "Sierra Leone: 11596.25\n",
            "Liberia: 6737.32\n",
            "Senegal: 1.02\n",
            "Estados Unidos: 3.95\n",
            "Espanha: 1.00\n",
            "Mali: 7.80\n",
            "Reino Unido: 0.99\n",
            "Italia: 1.00\n"
          ],
          "name": "stdout"
        }
      ]
    },
    {
      "cell_type": "code",
      "metadata": {
        "id": "sXzfwAcRRcIT",
        "colab_type": "code",
        "colab": {
          "base_uri": "https://localhost:8080/",
          "height": 281
        },
        "outputId": "2dea6966-9f61-47e7-d9b0-ed3e2a54be44"
      },
      "source": [
        "# paises1 = ['Guinea', 'Nigeria', 'Sierra Leone', 'Liberia', 'Senegal', 'Estados Unidos', 'Espanha', 'Mali', 'Reino Unido', 'Italia']\n",
        "# Cada numero equivale a um pais para melhor visualização.\n",
        "media_mortes_pais = [guianea_mortes.mean(),nigeria_mortes.mean(),sierra_leone_mortes.mean(),liberia_mortes.mean(),senegal_mortes.mean(),estados_unidos_mortes.mean(),\n",
        "                    espanha_mortes.mean(),mali_mortes.mean(),reino_unido_mortes.mean(),italia_mortes.mean()]\n",
        "plt.bar(paises1, media_mortes_pais)\n",
        "plt.title('Media de Mortes confirmadas por País')\n",
        "plt.show()"
      ],
      "execution_count": 23,
      "outputs": [
        {
          "output_type": "display_data",
          "data": {
            "image/png": "[encoded data removed]",
            "text/plain": [
              "<Figure size 432x288 with 1 Axes>"
            ]
          },
          "metadata": {
            "tags": [],
            "needs_background": "light"
          }
        }
      ]
    },
    {
      "cell_type": "code",
      "metadata": {
        "id": "7xqpf_HcePLX",
        "colab_type": "code",
        "colab": {
          "base_uri": "https://localhost:8080/",
          "height": 221
        },
        "outputId": "a0528bfe-b945-4ea2-8605-83669746c259"
      },
      "source": [
        "print(\"Media de Mortes Confirmadas Por País \\n\")\n",
        "print(\"Guianea: {:.2f}\".format(guianea_mortes.mean()))\n",
        "print(\"Nigeria: {:.2f}\".format(nigeria_mortes.mean()))\n",
        "print(\"Sierra Leone: {:.2f}\".format(sierra_leone_mortes.mean()))\n",
        "print(\"Liberia: {:.2f}\".format(liberia_mortes.mean()))\n",
        "print(\"Senegal: {:.2f}\".format(senegal_mortes.mean()))\n",
        "print(\"Estados Unidos: {:.2f}\".format(estados_unidos_mortes.mean()))\n",
        "print(\"Espanha: {:.2f}\".format(espanha_mortes.mean()))\n",
        "print(\"Mali: {:.2f}\".format(mali_mortes.mean()))\n",
        "print(\"Reino Unido: {:.2f}\".format(reino_unido_mortes.mean()))\n",
        "print(\"Italia: {:.2f}\".format(italia_mortes.mean()))"
      ],
      "execution_count": 24,
      "outputs": [
        {
          "output_type": "stream",
          "text": [
            "Media de Mortes Confirmadas Por País \n",
            "\n",
            "Guianea: 2174.01\n",
            "Nigeria: 8.00\n",
            "Sierra Leone: 3431.79\n",
            "Liberia: 3013.24\n",
            "Senegal: 0.00\n",
            "Estados Unidos: 0.99\n",
            "Espanha: 0.00\n",
            "Mali: 5.87\n",
            "Reino Unido: 0.00\n",
            "Italia: 0.00\n"
          ],
          "name": "stdout"
        }
      ]
    },
    {
      "cell_type": "code",
      "metadata": {
        "id": "is6we_WhLZjk",
        "colab_type": "code",
        "colab": {
          "base_uri": "https://localhost:8080/",
          "height": 281
        },
        "outputId": "d92eff68-fc9b-4836-a8cf-1dd57a9bbdc6"
      },
      "source": [
        "plt.hist(dados['NCC'],10) \n",
        "plt.hist(dados['NMC'],10)\n",
        "plt.ylabel('Quantidade')\n",
        "plt.title('Relação de casos confirmados e Mortes')\n",
        "\n",
        "#Azul --> Casos Confirmados.\n",
        "#Laranja --> Mortes.\n",
        "\n",
        "plt.show()"
      ],
      "execution_count": 25,
      "outputs": [
        {
          "output_type": "display_data",
          "data": {
            "image/png": "[encoded data removed]",
            "text/plain": [
              "<Figure size 432x288 with 1 Axes>"
            ]
          },
          "metadata": {
            "tags": [],
            "needs_background": "light"
          }
        }
      ]
    },
    {
      "cell_type": "code",
      "metadata": {
        "id": "VqCyyMQY_LJP",
        "colab_type": "code",
        "colab": {
          "base_uri": "https://localhost:8080/",
          "height": 295
        },
        "outputId": "9cf389a2-e632-468c-efc5-5a4af873f500"
      },
      "source": [
        "sns.distplot(dados.NCC, hist=False, rug=False,label='Numero de Casos Confirmados')\n",
        "sns.distplot(dados.NMC, hist=False, rug=False,label='Numero de Mortes Confirmadas')\n",
        "plt.ylabel('Probabilidades')\n",
        "plt.xlabel(' ')\n",
        "plt.title('Ocorrências')\n",
        "plt.show()"
      ],
      "execution_count": 26,
      "outputs": [
        {
          "output_type": "display_data",
          "data": {
            "image/png": "[encoded data removed]",
            "text/plain": [
              "<Figure size 432x288 with 1 Axes>"
            ]
          },
          "metadata": {
            "tags": [],
            "needs_background": "light"
          }
        }
      ]
    },
    {
      "cell_type": "code",
      "metadata": {
        "id": "jqyM2rS0ThYy",
        "colab_type": "code",
        "colab": {
          "base_uri": "https://localhost:8080/",
          "height": 295
        },
        "outputId": "de58b12a-9627-4a94-e502-918a04d599aa"
      },
      "source": [
        "plt.scatter(dados.NCC,dados.NMC)\n",
        "plt.xlabel('Casos Confirmados')\n",
        "plt.ylabel('Mortes Confirmadas')\n",
        "plt.title('Correlação entre casos confirmados e mortes confirmadas')\n",
        "plt.show()"
      ],
      "execution_count": 27,
      "outputs": [
        {
          "output_type": "display_data",
          "data": {
            "image/png": "[encoded data removed]",
            "text/plain": [
              "<Figure size 432x288 with 1 Axes>"
            ]
          },
          "metadata": {
            "tags": [],
            "needs_background": "light"
          }
        }
      ]
    },
    {
      "cell_type": "markdown",
      "metadata": {
        "id": "m7DIWViWUjQZ",
        "colab_type": "text"
      },
      "source": [
        "Após a analise dos dados foi constato que:\n",
        "\n",
        "1 - O numero de casos confirmados e mortes por ebola eram maior na Guianea, Sierra Leonee e Liberia.\n",
        "\n",
        "2 - O numero de mortes por ebola incialmente eram maior que o numero de casos confirmados.\n",
        "\n",
        "3 - O numero de mortes por ebola foi diminuindo ao longo do tempo.\n",
        "\n",
        "4 - Nos meses finais o numero de mortes por ebola diminuiram drasticamente em relação aos casos confirmados."
      ]
    }
  ]
}